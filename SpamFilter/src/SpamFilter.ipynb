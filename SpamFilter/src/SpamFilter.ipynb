{
 "cells": [
  {
   "cell_type": "markdown",
   "metadata": {},
   "source": [
    "### Spam Filter\n",
    "Shishir Singapura (ssl495)  \n",
    "Mayank Grover (mg5229)"
   ]
  },
  {
   "cell_type": "code",
   "execution_count": 1,
   "metadata": {},
   "outputs": [],
   "source": [
    "import pandas as pd\n",
    "import numpy as np\n",
    "\n",
    "train_data = pd.read_csv(\"spambasetrain.csv\", names = [\"char_freq_; \" , \"char_freq_( \" , \" char_freq_[ \" , \" char_freq_! \" , \n",
    "                                                       \"char_freq_$ \" , \"char_freq_# \" , \"capital_run_length_average\" ,\n",
    "                                                       \"capital_run_length_longest\" , \"capital_run_length_total\" , \"class\"])\n",
    "test_data = pd.read_csv(\"spambasetest.csv\", names = [\"char_freq_; \" , \"char_freq_( \" , \" char_freq_[ \" , \" char_freq_! \" , \n",
    "                                                       \"char_freq_$ \" , \"char_freq_# \" , \"capital_run_length_average\" ,\n",
    "                                                       \"capital_run_length_longest\" , \"capital_run_length_total\" , \"class\"])\n"
   ]
  },
  {
   "cell_type": "code",
   "execution_count": 2,
   "metadata": {},
   "outputs": [
    {
     "name": "stdout",
     "output_type": "stream",
     "text": [
      "       char_freq_;   char_freq_(    char_freq_[    char_freq_!   char_freq_$   \\\n",
      "class                                                                           \n",
      "0          0.048426      0.157487       0.016960       0.110713      0.011503   \n",
      "1          0.020247      0.103439       0.007847       0.491662      0.173151   \n",
      "\n",
      "       char_freq_#   capital_run_length_average  capital_run_length_longest  \\\n",
      "class                                                                         \n",
      "0          0.025892                    2.376590                   18.182274   \n",
      "1          0.084901                    9.496347                   97.209129   \n",
      "\n",
      "       capital_run_length_total  \n",
      "class                            \n",
      "0                    164.143255  \n",
      "1                    453.512863  \n"
     ]
    }
   ],
   "source": [
    "train_data_mean = train_data.groupby('class').mean()\n",
    "print(train_data_mean)"
   ]
  },
  {
   "cell_type": "code",
   "execution_count": 3,
   "metadata": {},
   "outputs": [
    {
     "name": "stdout",
     "output_type": "stream",
     "text": [
      "       char_freq_;   char_freq_(    char_freq_[    char_freq_!   char_freq_$   \\\n",
      "class                                                                           \n",
      "0          0.088306      0.070180       0.004845       0.417588      0.004080   \n",
      "1          0.007542      0.032143       0.002416       0.547792      0.129976   \n",
      "\n",
      "       char_freq_#   capital_run_length_average  capital_run_length_longest  \\\n",
      "class                                                                         \n",
      "0          0.089269                   37.447271                 1915.266813   \n",
      "1          0.527283                 2965.984486                36369.991113   \n",
      "\n",
      "       capital_run_length_total  \n",
      "class                            \n",
      "0                 144134.168535  \n",
      "1                 614182.120474  \n"
     ]
    }
   ],
   "source": [
    "train_data_variance = train_data.groupby('class').var()\n",
    "print(train_data_variance)"
   ]
  },
  {
   "cell_type": "code",
   "execution_count": 4,
   "metadata": {},
   "outputs": [
    {
     "name": "stdout",
     "output_type": "stream",
     "text": [
      "P(C = 0) =  0.5981993997999333\n",
      "P(C = 1) =  0.4018006002000667\n"
     ]
    }
   ],
   "source": [
    "probability_0 = len(train_data['class'][train_data['class'] == 0])/ len(train_data.index)\n",
    "probability_1 = len(train_data['class'][train_data['class'] == 1])/ len(train_data.index)\n",
    "print('P(C = 0) = ' , probability_0)\n",
    "print('P(C = 1) = ' , probability_1)"
   ]
  },
  {
   "cell_type": "code",
   "execution_count": 5,
   "metadata": {},
   "outputs": [],
   "source": [
    "def likelihood(x, mean, variance) :\n",
    "    return ( 1 / ( np.sqrt(2 * np.pi * variance))) * (np.exp( -(((x - mean) ** 2) / (variance * 2))))"
   ]
  },
  {
   "cell_type": "code",
   "execution_count": 6,
   "metadata": {},
   "outputs": [],
   "source": [
    "map_class_0 = np.exp((np.log(probability_0) +\n",
    "               np.log(likelihood(test_data['char_freq_; '], train_data_mean['char_freq_; '][0], train_data_variance['char_freq_; '][0])) + \n",
    "               np.log(likelihood(test_data[\"char_freq_( \"], train_data_mean[\"char_freq_( \"][0], train_data_variance[\"char_freq_( \"][0])) +\n",
    "               np.log(likelihood(test_data[\" char_freq_[ \"], train_data_mean[\" char_freq_[ \"][0], train_data_variance[\" char_freq_[ \"][0])) +\n",
    "               np.log(likelihood(test_data[\" char_freq_! \"], train_data_mean[\" char_freq_! \"][0], train_data_variance[\" char_freq_! \"][0])) +\n",
    "               np.log(likelihood(test_data[\"char_freq_$ \"], train_data_mean[\"char_freq_$ \"][0], train_data_variance[\"char_freq_$ \"][0])) +\n",
    "               np.log(likelihood(test_data[\"char_freq_# \"], train_data_mean[\"char_freq_# \"][0], train_data_variance[\"char_freq_# \"][0])) +\n",
    "               np.log(likelihood(test_data[\"capital_run_length_average\"], train_data_mean[\"capital_run_length_average\"][0], train_data_variance[\"capital_run_length_average\"][0])) +\n",
    "               np.log(likelihood(test_data[\"capital_run_length_longest\"], train_data_mean[\"capital_run_length_longest\"][0], train_data_variance[\"capital_run_length_longest\"][0])) +\n",
    "               np.log(likelihood(test_data[\"capital_run_length_total\"], train_data_mean[\"capital_run_length_total\"][0], train_data_variance[\"capital_run_length_total\"][0]))))"
   ]
  },
  {
   "cell_type": "code",
   "execution_count": 7,
   "metadata": {},
   "outputs": [],
   "source": [
    "map_class_1 = np.exp((np.log(probability_1) +\n",
    "               np.log(likelihood(test_data['char_freq_; '], train_data_mean['char_freq_; '][1], train_data_variance['char_freq_; '][1])) + \n",
    "               np.log(likelihood(test_data[\"char_freq_( \"], train_data_mean[\"char_freq_( \"][1], train_data_variance[\"char_freq_( \"][1])) +\n",
    "               np.log(likelihood(test_data[\" char_freq_[ \"], train_data_mean[\" char_freq_[ \"][1], train_data_variance[\" char_freq_[ \"][1])) +\n",
    "               np.log(likelihood(test_data[\" char_freq_! \"], train_data_mean[\" char_freq_! \"][1], train_data_variance[\" char_freq_! \"][1])) +\n",
    "               np.log(likelihood(test_data[\"char_freq_$ \"], train_data_mean[\"char_freq_$ \"][1], train_data_variance[\"char_freq_$ \"][1])) +\n",
    "               np.log(likelihood(test_data[\"char_freq_# \"], train_data_mean[\"char_freq_# \"][1], train_data_variance[\"char_freq_# \"][1])) +\n",
    "               np.log(likelihood(test_data[\"capital_run_length_average\"], train_data_mean[\"capital_run_length_average\"][1], train_data_variance[\"capital_run_length_average\"][1])) +\n",
    "               np.log(likelihood(test_data[\"capital_run_length_longest\"], train_data_mean[\"capital_run_length_longest\"][1], train_data_variance[\"capital_run_length_longest\"][1])) +\n",
    "               np.log(likelihood(test_data[\"capital_run_length_total\"], train_data_mean[\"capital_run_length_total\"][1], train_data_variance[\"capital_run_length_total\"][1]))))"
   ]
  },
  {
   "cell_type": "code",
   "execution_count": 8,
   "metadata": {},
   "outputs": [
    {
     "name": "stdout",
     "output_type": "stream",
     "text": [
      "     char_freq_;   char_freq_(    char_freq_[    char_freq_!   char_freq_$   \\\n",
      "0           0.000         0.000          0.000          0.000         0.000   \n",
      "1           0.000         0.000          0.000          0.102         0.000   \n",
      "2           0.000         0.492          0.000          0.000         0.000   \n",
      "3           0.203         0.195          0.050          0.000         0.014   \n",
      "4           0.000         0.000          0.000          0.874         0.000   \n",
      "5           0.000         0.793          0.000          0.000         0.000   \n",
      "6           0.000         0.000          0.000          0.170         0.170   \n",
      "7           0.000         0.132          0.000          0.022         0.000   \n",
      "8           0.000         0.000          0.000          0.000         0.000   \n",
      "9           0.000         0.000          0.000          0.277         0.000   \n",
      "10          0.000         0.000          0.000          0.079         0.106   \n",
      "11          0.000         0.203          0.000          0.000         0.000   \n",
      "12          0.000         0.088          0.000          0.000         0.000   \n",
      "13          0.000         0.000          0.000          0.000         0.000   \n",
      "14          0.000         0.000          0.000          0.000         0.000   \n",
      "15          0.127         0.095          0.000          0.000         0.031   \n",
      "16          0.123         0.309          0.030          0.000         0.000   \n",
      "17          0.000         0.295          0.000          0.000         0.000   \n",
      "18          0.317         0.000          0.000          0.952         0.000   \n",
      "19          0.000         0.059          0.000          0.434         0.197   \n",
      "20          0.000         0.000          0.000          0.855         0.794   \n",
      "21          0.044         0.222          0.000          0.178         0.000   \n",
      "22          0.000         0.137          0.000          0.045         0.045   \n",
      "23          0.000         0.257          0.000          0.600         0.429   \n",
      "24          0.000         0.687          0.000          0.000         0.000   \n",
      "25          0.714         0.000          0.000          0.238         0.000   \n",
      "26          0.000         0.452          0.000          2.865         0.301   \n",
      "27          0.000         0.083          0.000          0.503         0.000   \n",
      "28          0.000         0.000          0.000          0.000         0.000   \n",
      "29          0.000         0.318          0.000          0.000         0.000   \n",
      "..            ...           ...            ...            ...           ...   \n",
      "170         0.000         0.526          0.000          0.000         0.000   \n",
      "171         0.018         0.073          0.000          0.000         0.000   \n",
      "172         0.153         0.092          0.000          0.000         0.000   \n",
      "173         0.134         0.089          0.000          0.000         0.000   \n",
      "174         0.000         0.274          0.000          0.000         0.000   \n",
      "175         0.000         0.000          0.000          0.467         0.233   \n",
      "176         0.000         0.000          0.000          0.427         0.000   \n",
      "177         0.000         0.075          0.000          0.131         0.056   \n",
      "178         0.000         0.000          0.000          1.282         0.000   \n",
      "179         0.000         0.037          0.037          1.362         0.037   \n",
      "180         0.015         0.180          0.000          0.045         0.015   \n",
      "181         0.007         0.304          0.000          0.053         0.030   \n",
      "182         0.182         0.182          0.000          0.000         0.000   \n",
      "183         0.000         0.000          0.000          0.000         0.000   \n",
      "184         0.000         0.054          0.000          0.000         0.271   \n",
      "185         0.000         0.165          0.000          0.371         0.061   \n",
      "186         0.000         0.105          0.000          0.000         0.000   \n",
      "187         0.000         0.022          0.000          0.000         0.000   \n",
      "188         0.085         0.198          0.056          0.000         0.000   \n",
      "189         0.000         0.170          0.000          0.510         0.340   \n",
      "190         0.000         0.077          0.064          0.348         0.103   \n",
      "191         0.000         0.000          0.256          0.128         0.000   \n",
      "192         0.000         0.000          0.000          0.000         0.000   \n",
      "193         0.000         0.048          0.000          0.144         0.000   \n",
      "194         0.000         0.139          0.000          0.279         0.000   \n",
      "195         1.204         0.000          0.000          0.000         0.000   \n",
      "196         0.000         0.309          0.000          0.309         0.000   \n",
      "197         0.000         0.279          0.000          2.001         0.093   \n",
      "198         0.000         0.109          0.000          0.414         0.021   \n",
      "199         0.000         0.000          0.000          0.000         0.000   \n",
      "\n",
      "     char_freq_#   capital_run_length_average  capital_run_length_longest  \\\n",
      "0           0.000                       2.000                           4   \n",
      "1           0.000                       2.531                          30   \n",
      "2           0.000                       1.890                          11   \n",
      "3           0.000                       2.880                          45   \n",
      "4           0.000                       5.114                         107   \n",
      "5           0.000                       3.076                          11   \n",
      "6           0.000                       6.266                          41   \n",
      "7           0.000                       2.621                          70   \n",
      "8           0.000                       1.551                          10   \n",
      "9           0.000                       3.000                          17   \n",
      "10          0.053                       2.000                          32   \n",
      "11          0.000                       1.416                           6   \n",
      "12          0.000                       1.607                           4   \n",
      "13          0.000                       1.611                           5   \n",
      "14          0.000                       1.333                           2   \n",
      "15          0.000                       1.411                           7   \n",
      "16          0.000                       2.241                          13   \n",
      "17          0.000                       3.260                          42   \n",
      "18          0.000                       4.823                          13   \n",
      "19          0.217                       8.026                         283   \n",
      "20          0.000                       4.152                          41   \n",
      "21          0.044                       4.757                          70   \n",
      "22          0.000                      12.200                         163   \n",
      "23          0.000                       1.447                           4   \n",
      "24          0.000                       1.903                          17   \n",
      "25          0.000                       4.333                          11   \n",
      "26          0.000                       5.037                          23   \n",
      "27          0.083                      16.304                         148   \n",
      "28          0.000                       1.846                          11   \n",
      "29          0.000                       1.772                           4   \n",
      "..            ...                         ...                         ...   \n",
      "170         0.000                       1.529                           6   \n",
      "171         0.000                       2.556                          23   \n",
      "172         0.030                       2.470                          27   \n",
      "173         0.000                       2.432                          24   \n",
      "174         0.000                       1.848                          10   \n",
      "175         0.000                       1.846                          12   \n",
      "176         0.000                      10.000                          33   \n",
      "177         0.018                       4.470                          74   \n",
      "178         0.000                       1.000                           1   \n",
      "179         0.000                       5.236                         111   \n",
      "180         0.000                       2.133                          40   \n",
      "181         0.000                       2.548                          49   \n",
      "182         0.000                       1.000                           1   \n",
      "183         0.000                       1.444                           5   \n",
      "184         0.000                       1.670                          14   \n",
      "185         0.000                       2.878                          84   \n",
      "186         0.000                       1.826                           8   \n",
      "187         0.000                       1.590                          37   \n",
      "188         0.454                       3.414                         108   \n",
      "189         0.000                       3.761                          23   \n",
      "190         0.012                       5.392                         119   \n",
      "191         0.000                       1.779                          11   \n",
      "192         0.000                       3.387                          15   \n",
      "193         0.096                       5.403                         139   \n",
      "194         0.000                       1.736                          10   \n",
      "195         0.000                       1.285                           2   \n",
      "196         0.000                       3.973                          34   \n",
      "197         0.000                       3.706                          63   \n",
      "198         0.000                       5.955                          65   \n",
      "199         0.000                       5.888                          29   \n",
      "\n",
      "     capital_run_length_total  class  class_predicted  \n",
      "0                           6      0                0  \n",
      "1                          81      0                0  \n",
      "2                         138      0                0  \n",
      "3                        1080      0                0  \n",
      "4                         179      1                0  \n",
      "5                          40      0                0  \n",
      "6                          94      1                0  \n",
      "7                         422      0                0  \n",
      "8                          45      0                0  \n",
      "9                          51      0                0  \n",
      "10                        260      1                0  \n",
      "11                         34      0                0  \n",
      "12                         45      0                0  \n",
      "13                         29      0                0  \n",
      "14                          4      0                0  \n",
      "15                        120      0                0  \n",
      "16                        204      0                0  \n",
      "17                         75      0                0  \n",
      "18                         82      1                0  \n",
      "19                       1509      1                1  \n",
      "20                        353      1                1  \n",
      "21                        314      0                0  \n",
      "22                        488      1                1  \n",
      "23                         55      1                1  \n",
      "24                         59      0                0  \n",
      "25                        104      1                0  \n",
      "26                        136      1                1  \n",
      "27                        375      1                1  \n",
      "28                         48      0                0  \n",
      "29                         39      0                0  \n",
      "..                        ...    ...              ...  \n",
      "170                        26      0                0  \n",
      "171                       317      0                0  \n",
      "172                       425      1                0  \n",
      "173                       557      0                0  \n",
      "174                        61      0                0  \n",
      "175                        72      1                1  \n",
      "176                       170      1                0  \n",
      "177                       675      1                0  \n",
      "178                         8      0                0  \n",
      "179                       576      1                0  \n",
      "180                       303      1                0  \n",
      "181                      1134      0                0  \n",
      "182                         9      0                0  \n",
      "183                        13      0                0  \n",
      "184                       162      1                1  \n",
      "185                       475      1                0  \n",
      "186                        42      0                0  \n",
      "187                       272      0                0  \n",
      "188                       536      0                0  \n",
      "189                        79      1                1  \n",
      "190                      1456      1                1  \n",
      "191                       105      1                0  \n",
      "192                       105      0                0  \n",
      "193                       281      1                0  \n",
      "194                        66      0                0  \n",
      "195                         9      0                0  \n",
      "196                       151      0                0  \n",
      "197                       341      1                0  \n",
      "198                       667      1                0  \n",
      "199                        53      0                0  \n",
      "\n",
      "[200 rows x 11 columns]\n"
     ]
    }
   ],
   "source": [
    "test_data['class_predicted'] = np.where(map_class_1 > map_class_0, 1, 0)\n",
    "print(test_data)"
   ]
  },
  {
   "cell_type": "code",
   "execution_count": 9,
   "metadata": {},
   "outputs": [
    {
     "name": "stdout",
     "output_type": "stream",
     "text": [
      "Number of test examples classified correctly =  160\n",
      "Number of test examples classified incorrectly =  40\n",
      "percentage error =  20.0 %\n"
     ]
    }
   ],
   "source": [
    "test_data['correct'] = np.where(test_data['class_predicted'] == test_data['class'], 1 , 0)\n",
    "percentage_error  = len(test_data['correct'][test_data['correct'] == 0])/ len(test_data['correct'])\n",
    "print('Number of test examples classified correctly = ', len(test_data['correct'][test_data['correct'] == 1]))\n",
    "print('Number of test examples classified incorrectly = ', len(test_data['correct'][test_data['correct'] == 0]))\n",
    "print('percentage error = ' , percentage_error * 100 , '%')"
   ]
  },
  {
   "cell_type": "code",
   "execution_count": 10,
   "metadata": {},
   "outputs": [
    {
     "name": "stdout",
     "output_type": "stream",
     "text": [
      "accuracy =  0.8\n"
     ]
    }
   ],
   "source": [
    "accuracy  = len(test_data['correct'][test_data['correct'] == 1])/ len(test_data['correct'])\n",
    "print('accuracy = ' , accuracy)"
   ]
  },
  {
   "cell_type": "code",
   "execution_count": 11,
   "metadata": {},
   "outputs": [
    {
     "name": "stdout",
     "output_type": "stream",
     "text": [
      "accuracy Zero-R =  0.59\n"
     ]
    }
   ],
   "source": [
    "test_data['correct_zeroR'] = np.where(test_data['class'] == 0, 1 , 0)\n",
    "accuracy_zeroR = len(test_data['correct_zeroR'][test_data['correct_zeroR'] == 1])/ len(test_data['correct_zeroR'])\n",
    "print('accuracy Zero-R = ' , accuracy_zeroR)"
   ]
  },
  {
   "cell_type": "code",
   "execution_count": null,
   "metadata": {},
   "outputs": [],
   "source": []
  }
 ],
 "metadata": {
  "kernelspec": {
   "display_name": "Python 3",
   "language": "python",
   "name": "python3"
  },
  "language_info": {
   "codemirror_mode": {
    "name": "ipython",
    "version": 3
   },
   "file_extension": ".py",
   "mimetype": "text/x-python",
   "name": "python",
   "nbconvert_exporter": "python",
   "pygments_lexer": "ipython3",
   "version": "3.6.7"
  }
 },
 "nbformat": 4,
 "nbformat_minor": 2
}
