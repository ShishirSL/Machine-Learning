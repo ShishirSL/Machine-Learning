{
 "cells": [
  {
   "cell_type": "markdown",
   "metadata": {
    "colab_type": "text",
    "id": "6mnGUplZ-7WS"
   },
   "source": [
    "### Sentiment Analysis of Movie Reviews\n",
    "Mayank Grover (mg5229)  \n",
    "Shishir Singapura Lakshminarayan (ssl495)"
   ]
  },
  {
   "cell_type": "code",
   "execution_count": 0,
   "metadata": {
    "colab": {},
    "colab_type": "code",
    "id": "V9M6toJXHxlO"
   },
   "outputs": [],
   "source": [
    "import numpy as np\n",
    "import os\n",
    "import pandas as pd\n",
    "import sklearn\n",
    "from sklearn.metrics import accuracy_score\n",
    "from sklearn.metrics import confusion_matrix"
   ]
  },
  {
   "cell_type": "code",
   "execution_count": 0,
   "metadata": {
    "colab": {},
    "colab_type": "code",
    "id": "TWiHiVYXSHIn"
   },
   "outputs": [],
   "source": [
    "def read_data(file_dir):\n",
    "    \n",
    "    with open(file_dir) as file:\n",
    "\n",
    "        data = []\n",
    "        labels = []\n",
    "\n",
    "        for line in file:\n",
    "            labels.append(int(line[0]))\n",
    "            comment = set(line[2:].strip('\\n\\t').split(' '))\n",
    "            data.append(comment)\n",
    "    \n",
    "    return data, labels\n",
    "\n",
    "\n",
    "def jaccard_distance_matrix(train_data, test_data):\n",
    "    \n",
    "    similarity = np.zeros((len(test_data), len(train_data)))\n",
    "    for test_index in range(len(test_data)):\n",
    "        for train_index in range(len(train_data)):\n",
    "            \n",
    "            similar_words = \\\n",
    "            train_data[train_index].intersection(test_data[test_index])\n",
    "            \n",
    "            all_words = \\\n",
    "            train_data[train_index].union(test_data[test_index])\n",
    "            \n",
    "            similarity[test_index, train_index] = \\\n",
    "            len(similar_words) / len(all_words)\n",
    "            \n",
    "    distance = 1.0/similarity\n",
    "    \n",
    "    return distance\n",
    "    \n",
    "    \n",
    "def intersection_distance_matrix(train_data, test_data):\n",
    "\n",
    "    similarity = np.zeros((len(test_data), len(train_data)))\n",
    "    for test_index in range(len(test_data)):\n",
    "        for train_index in range(len(train_data)):\n",
    "            \n",
    "            similar_words = \\\n",
    "            train_data[train_index].intersection(test_data[test_index])\n",
    "            \n",
    "            similarity[test_index, train_index] = len(similar_words)\n",
    "            \n",
    "    distance = 1.0/similarity\n",
    "    \n",
    "    return distance\n",
    "\n",
    "\n",
    "def distinct_indices(dist_series, k):\n",
    "    \n",
    "    k_now = 0\n",
    "    for index, value in dist_series.iteritems():\n",
    "        if k_now == 0:\n",
    "            indices = [index]\n",
    "            prev_value = value\n",
    "            k_now += 1\n",
    "            continue\n",
    "        if k_now < k:\n",
    "            indices.append(index)\n",
    "            prev_value = value\n",
    "            k_now += 1\n",
    "        elif k_now >= k:\n",
    "            if prev_value == value:\n",
    "                indices.append(index)\n",
    "            else:\n",
    "                break\n",
    "    return indices\n",
    "\n",
    "\n",
    "def predict(train_labels, distance, k):\n",
    "\n",
    "    predictions = [None] * distance.shape[0]\n",
    "\n",
    "    for i in range(distance.shape[0]):\n",
    "        \n",
    "        dist_series = pd.Series(distance[i]).sort_values()\n",
    "        indices = distinct_indices(dist_series, k)\n",
    "        zeros = 0\n",
    "        ones = 0\n",
    "        for index in indices:\n",
    "            if train_labels[index] == 0:\n",
    "                zeros += 1\n",
    "            else:\n",
    "                ones +=1\n",
    "        predictions[i] = 0 if zeros > ones else 1\n",
    "\n",
    "    return predictions"
   ]
  },
  {
   "cell_type": "code",
   "execution_count": 0,
   "metadata": {
    "colab": {},
    "colab_type": "code",
    "id": "R5JvWvM1yZFn"
   },
   "outputs": [],
   "source": [
    "def kNN(train_data, test_data, train_labels, k, distance_measure):\n",
    "    '''\n",
    "    valid inputs:\n",
    "    distance_measure = jaccard / intersection\n",
    "    '''   \n",
    "\n",
    "\n",
    "    if distance_measure == 'jaccard':\n",
    "        distance = jaccard_distance_matrix(train_data, test_data)\n",
    "    elif distance_measure == 'intersection':\n",
    "        distance = intersection_distance_matrix(train_data, test_data)\n",
    "    else:\n",
    "        print('Error: Invalid Distance metric')\n",
    "    \n",
    "    predictions = predict(train_labels, distance, k)\n",
    "    \n",
    "    return predictions"
   ]
  },
  {
   "cell_type": "code",
   "execution_count": 0,
   "metadata": {
    "colab": {},
    "colab_type": "code",
    "id": "hJtWw5NNmwk-"
   },
   "outputs": [],
   "source": [
    "train_dir = './reviewstrain.txt'\n",
    "test_dir = './reviewstest.txt'"
   ]
  },
  {
   "cell_type": "code",
   "execution_count": 0,
   "metadata": {
    "colab": {},
    "colab_type": "code",
    "id": "88jiOUYHZOSm"
   },
   "outputs": [],
   "source": [
    "# Read the train and test files\n",
    "all_train_data, all_train_labels = read_data(train_dir)\n",
    "all_test_data, all_test_labels = read_data(test_dir)"
   ]
  },
  {
   "cell_type": "code",
   "execution_count": 6,
   "metadata": {
    "colab": {
     "base_uri": "https://localhost:8080/",
     "height": 173
    },
    "colab_type": "code",
    "id": "mmO5hHs3ZS5X",
    "outputId": "b1c4ad6f-067e-4373-a83a-795a02620f19"
   },
   "outputs": [
    {
     "name": "stderr",
     "output_type": "stream",
     "text": [
      "/usr/local/lib/python3.6/dist-packages/ipykernel_launcher.py:43: RuntimeWarning: divide by zero encountered in true_divide\n"
     ]
    },
    {
     "name": "stdout",
     "output_type": "stream",
     "text": [
      "0.604 0.59 0.606\n",
      "[[ 93 134]\n",
      " [ 64 209]]\n",
      "[[ 83 144]\n",
      " [ 61 212]]\n",
      "[[ 91 136]\n",
      " [ 61 212]]\n"
     ]
    }
   ],
   "source": [
    "# Out of Sample - Without cross-validation\n",
    "\n",
    "# Running kNN without cross-fold validations\n",
    "predictions_1 = kNN(all_train_data, all_test_data, all_train_labels, k=1, \n",
    "                    distance_measure='intersection')\n",
    "predictions_3 = kNN(all_train_data, all_test_data, all_train_labels, k=3, \n",
    "                    distance_measure='intersection')\n",
    "predictions_5 = kNN(all_train_data, all_test_data, all_train_labels, k=5, \n",
    "                    distance_measure='intersection')\n",
    "\n",
    "\n",
    "# Calculating accuracy\n",
    "accuracy_1 = accuracy_score(all_test_labels, predictions_1)\n",
    "accuracy_3 = accuracy_score(all_test_labels, predictions_3)\n",
    "accuracy_5 = accuracy_score(all_test_labels, predictions_5)\n",
    "\n",
    "\n",
    "# Calculating Confusion Matrix\n",
    "confusion_1 = confusion_matrix(all_test_labels, predictions_1)\n",
    "confusion_3 = confusion_matrix(all_test_labels, predictions_3)\n",
    "confusion_5 = confusion_matrix(all_test_labels, predictions_5)\n",
    "\n",
    "print(accuracy_1, accuracy_3, accuracy_5)\n",
    "print(confusion_1)\n",
    "print(confusion_3)\n",
    "print(confusion_5)"
   ]
  },
  {
   "cell_type": "code",
   "execution_count": 12,
   "metadata": {
    "colab": {
     "base_uri": "https://localhost:8080/",
     "height": 34
    },
    "colab_type": "code",
    "id": "SJggd3ii0uip",
    "outputId": "8bd3d954-daa5-4c15-9ca9-888da499cea2"
   },
   "outputs": [
    {
     "name": "stdout",
     "output_type": "stream",
     "text": [
      "Predicted label for example 18 (k=1) is : 1\n"
     ]
    }
   ],
   "source": [
    "print('Predicted label for example 18 (k=1) is :', predictions_1[17])"
   ]
  },
  {
   "cell_type": "code",
   "execution_count": 8,
   "metadata": {
    "colab": {
     "base_uri": "https://localhost:8080/",
     "height": 68
    },
    "colab_type": "code",
    "id": "jrYDqkS7mke-",
    "outputId": "0d597e50-ec11-46ec-c31f-d01ea387e279"
   },
   "outputs": [
    {
     "name": "stdout",
     "output_type": "stream",
     "text": [
      "0.546\n",
      "[[  0 227]\n",
      " [  0 273]]\n"
     ]
    }
   ],
   "source": [
    "# Zero R\n",
    "\n",
    "\n",
    "predictions_zeroR = [1 if all_test_labels.count(1) >= all_test_labels.count(0)\n",
    "                     else 0] * len(all_test_labels)\n",
    "accuracy_zeroR = accuracy_score(all_test_labels, predictions_zeroR)\n",
    "confusion_zeroR = confusion_matrix(all_test_labels, predictions_zeroR)\n",
    "\n",
    "print(accuracy_zeroR)\n",
    "print(confusion_zeroR)"
   ]
  },
  {
   "cell_type": "code",
   "execution_count": 0,
   "metadata": {
    "colab": {},
    "colab_type": "code",
    "id": "uLFC1Kko_YHV"
   },
   "outputs": [],
   "source": [
    "def cross_validation_kNN(train_data, train_labels, k, n_splits=5):\n",
    "\n",
    "    train_len = len(train_data)\n",
    "    train_data_splits = np.array_split(train_data, n_splits)\n",
    "    train_label_splits = np.array_split(train_labels, n_splits)\n",
    "    predicted_labels = np.array(())\n",
    "\n",
    "    for i in range(n_splits) :\n",
    "\n",
    "        test_set = train_data_splits[i]\n",
    "        train_set = np.delete(train_data_splits, i, axis=0).flatten()\n",
    "        train_label_set = np.delete(train_label_splits, i, axis=0).flatten()\n",
    "\n",
    "        predictions = kNN(train_set, test_set, train_label_set, k, \n",
    "                          distance_measure='intersection')\n",
    "\n",
    "        predicted_labels = np.append(predicted_labels, predictions)\n",
    "    \n",
    "    return predicted_labels"
   ]
  },
  {
   "cell_type": "code",
   "execution_count": 10,
   "metadata": {
    "colab": {
     "base_uri": "https://localhost:8080/",
     "height": 173
    },
    "colab_type": "code",
    "id": "wMWL90Y3eYDj",
    "outputId": "291f3ef0-f2a4-48ca-b3f4-a7986b07c633"
   },
   "outputs": [
    {
     "name": "stderr",
     "output_type": "stream",
     "text": [
      "/usr/local/lib/python3.6/dist-packages/ipykernel_launcher.py:43: RuntimeWarning: divide by zero encountered in true_divide\n"
     ]
    },
    {
     "name": "stdout",
     "output_type": "stream",
     "text": [
      "0.66 0.658 0.612\n",
      "[[330 359]\n",
      " [151 660]]\n",
      "[[308 381]\n",
      " [132 679]]\n",
      "[[186 503]\n",
      " [ 79 732]]\n"
     ]
    }
   ],
   "source": [
    "# Cross-validation\n",
    "\n",
    "\n",
    "# Predictions\n",
    "predicted_cv_labels_3 = cross_validation_kNN(all_train_data, \n",
    "                                             all_train_labels, 3)\n",
    "predicted_cv_labels_7 = cross_validation_kNN(all_train_data, \n",
    "                                             all_train_labels, 7)\n",
    "predicted_cv_labels_99 = cross_validation_kNN(all_train_data, \n",
    "                                              all_train_labels, 99)\n",
    "\n",
    "# Accuracy\n",
    "accuracy_cv_3 = accuracy_score(all_train_labels, predicted_cv_labels_3)\n",
    "accuracy_cv_7 = accuracy_score(all_train_labels, predicted_cv_labels_7)\n",
    "accuracy_cv_99 = accuracy_score(all_train_labels, predicted_cv_labels_99)\n",
    "\n",
    "# Calculating Confusion Matrix\n",
    "confusion_cv_3 = confusion_matrix(all_train_labels, predicted_cv_labels_3)\n",
    "confusion_cv_7 = confusion_matrix(all_train_labels, predicted_cv_labels_7)\n",
    "confusion_cv_99 = confusion_matrix(all_train_labels, predicted_cv_labels_99)\n",
    "\n",
    "print(accuracy_cv_3, accuracy_cv_7, accuracy_cv_99)\n",
    "print(confusion_cv_3)\n",
    "print(confusion_cv_7)\n",
    "print(confusion_cv_99)"
   ]
  },
  {
   "cell_type": "code",
   "execution_count": 11,
   "metadata": {
    "colab": {
     "base_uri": "https://localhost:8080/",
     "height": 173
    },
    "colab_type": "code",
    "id": "xI89ZfXXpGld",
    "outputId": "0a217750-3a81-4340-9f02-d5d6c98a3e83"
   },
   "outputs": [
    {
     "name": "stderr",
     "output_type": "stream",
     "text": [
      "/usr/local/lib/python3.6/dist-packages/ipykernel_launcher.py:28: RuntimeWarning: divide by zero encountered in true_divide\n"
     ]
    },
    {
     "name": "stdout",
     "output_type": "stream",
     "text": [
      "0.642 0.63 0.668\n",
      "[[115 112]\n",
      " [ 67 206]]\n",
      "[[109 118]\n",
      " [ 67 206]]\n",
      "[[114 113]\n",
      " [ 53 220]]\n"
     ]
    }
   ],
   "source": [
    "# Out of Sample - Without cross-validation - JACCARD DISTANCE\n",
    "\n",
    "# Running kNN without cross-fold validations\n",
    "predictions_1 = kNN(all_train_data, all_test_data, all_train_labels, k=1, \n",
    "                    distance_measure='jaccard')\n",
    "predictions_3 = kNN(all_train_data, all_test_data, all_train_labels, k=3, \n",
    "                    distance_measure='jaccard')\n",
    "predictions_5 = kNN(all_train_data, all_test_data, all_train_labels, k=5, \n",
    "                    distance_measure='jaccard')\n",
    "\n",
    "\n",
    "# Calculating accuracy\n",
    "accuracy_1 = accuracy_score(all_test_labels, predictions_1)\n",
    "accuracy_3 = accuracy_score(all_test_labels, predictions_3)\n",
    "accuracy_5 = accuracy_score(all_test_labels, predictions_5)\n",
    "\n",
    "\n",
    "# Calculating Confusion Matrix\n",
    "confusion_1 = confusion_matrix(all_test_labels, predictions_1)\n",
    "confusion_3 = confusion_matrix(all_test_labels, predictions_3)\n",
    "confusion_5 = confusion_matrix(all_test_labels, predictions_5)\n",
    "\n",
    "print(accuracy_1, accuracy_3, accuracy_5)\n",
    "print(confusion_1)\n",
    "print(confusion_3)\n",
    "print(confusion_5)"
   ]
  },
  {
   "cell_type": "code",
   "execution_count": 0,
   "metadata": {
    "colab": {},
    "colab_type": "code",
    "id": "wF87U-Kiz2Ad"
   },
   "outputs": [],
   "source": []
  }
 ],
 "metadata": {
  "colab": {
   "collapsed_sections": [],
   "name": "ML HW2 Final.ipynb",
   "provenance": [],
   "toc_visible": true,
   "version": "0.3.2"
  },
  "kernelspec": {
   "display_name": "Python 3",
   "language": "python",
   "name": "python3"
  },
  "language_info": {
   "codemirror_mode": {
    "name": "ipython",
    "version": 3
   },
   "file_extension": ".py",
   "mimetype": "text/x-python",
   "name": "python",
   "nbconvert_exporter": "python",
   "pygments_lexer": "ipython3",
   "version": "3.6.7"
  }
 },
 "nbformat": 4,
 "nbformat_minor": 1
}
